{
 "cells": [
  {
   "cell_type": "code",
   "execution_count": 5,
   "metadata": {},
   "outputs": [
    {
     "name": "stdout",
     "output_type": "stream",
     "text": [
      "desserts\n"
     ]
    }
   ],
   "source": [
    "#00. Reversed string\n",
    "string = \"stressed\"\n",
    "tail_string = string[::-1]\n",
    "print (tail_string)"
   ]
  },
  {
   "cell_type": "code",
   "execution_count": 71,
   "metadata": {},
   "outputs": [
    {
     "name": "stdout",
     "output_type": "stream",
     "text": [
      "shoe\n",
      "shoe\n"
     ]
    }
   ],
   "source": [
    "#01. \"schooled\"\n",
    "string = \"schooled\"\n",
    "newString = \"\"\n",
    "for i in range (0, len(string), 2):\n",
    "    newString += string[i]\n",
    "print (newString)\n",
    "\n",
    "#print (string[::2]) #他の解答"
   ]
  },
  {
   "cell_type": "code",
   "execution_count": 72,
   "metadata": {},
   "outputs": [
    {
     "name": "stdout",
     "output_type": "stream",
     "text": [
      "schooled\n",
      "schooled\n"
     ]
    }
   ],
   "source": [
    "#02. \"shoe\" + \"cold\" = \"schooled\"\n",
    "string1 = \"shoe\"\n",
    "string2 = \"cold\"\n",
    "newString = \"\"\n",
    "for i in range(len(string1)):\n",
    "    newString += string1[i] + string2[i]    \n",
    "print (newString)\n",
    "\n",
    "print (''.join([s1+s2 for s1, s2 in zip(string1, string2)])) #他の解答"
   ]
  },
  {
   "cell_type": "code",
   "execution_count": 73,
   "metadata": {},
   "outputs": [
    {
     "name": "stdout",
     "output_type": "stream",
     "text": [
      "['Now', 'I', 'need', 'a', 'drink', 'alcoholic', 'of', 'course', 'after', 'the', 'heavy', 'lectures', 'involving', 'quantum', 'mechanics']\n",
      "[3, 1, 4, 1, 5, 9, 2, 6, 5, 3, 5, 8, 9, 7, 9]\n",
      "[3, 1, 4, 1, 5, 9, 2, 6, 5, 3, 5, 8, 9, 7, 9]\n"
     ]
    }
   ],
   "source": [
    "#03 Pi\n",
    "sentence = \"Now I need a drink, alcoholic of course, after the heavy lectures involving quantum mechanics\"\n",
    "words = sentence.replace(',','').split(' ')\n",
    "newList = []\n",
    "\n",
    "for word in words:\n",
    "    newList.append(len(word))\n",
    "print (words)\n",
    "print (newList)\n",
    "\n",
    "#print ([len(word) for word in words]) #他の解答"
   ]
  },
  {
   "cell_type": "code",
   "execution_count": 20,
   "metadata": {},
   "outputs": [
    {
     "name": "stdout",
     "output_type": "stream",
     "text": [
      "{'H': 1, 'He': 2, 'Li': 3, 'Be': 4, 'B': 5, 'C': 6, 'N': 7, 'O': 8, 'F': 9, 'Ne': 10, 'Na': 11, 'Mi': 12, 'Al': 13, 'Si': 14, 'P': 15, 'S': 16, 'Cl': 17, 'Ar': 18, 'K': 19, 'Ca': 20}\n"
     ]
    }
   ],
   "source": [
    "#04. Atomic symbols\n",
    "sentence = \"Hi He Lied Because Boron Could Not Oxidize Fluorine. New Nations Might Also Sign Peace Security Clause. Arthur King Can\"\n",
    "oneLetter = [1,5,6,7,8,9,15, 16, 19]\n",
    "result = {}\n",
    "words = sentence.split(' ')\n",
    "for e, word in enumerate(words):\n",
    "    if e + 1 in oneLetter:\n",
    "        result[word[0]] = e + 1\n",
    "    else:\n",
    "        result[word[0:2]] = e + 1\n",
    "        \n",
    "print (result)"
   ]
  },
  {
   "cell_type": "code",
   "execution_count": 49,
   "metadata": {},
   "outputs": [
    {
     "name": "stdout",
     "output_type": "stream",
     "text": [
      "[['I', 'am'], ['am', 'an'], ['an', 'NLPer']]\n",
      "['Ia', 'am', 'ma', 'an', 'nN', 'NL', 'LP', 'Pe', 'er']\n",
      "[['I', 'am'], ['am', 'an'], ['an', 'NLPer']]\n",
      "['Ia', 'am', 'ma', 'an', 'nN', 'NL', 'LP', 'Pe', 'er']\n"
     ]
    }
   ],
   "source": [
    "#05. n-gram\n",
    "def n_gram(input, n = 2):\n",
    "    if type(input) is str:\n",
    "        string = input.replace(' ','')\n",
    "        stringList = input.split(' ')\n",
    "    if type(input) is list:\n",
    "        stringList = input\n",
    "        string = ''.join(input)\n",
    "    \n",
    "    stringNgram = []\n",
    "    for i in range(len(string)-(n-1)):\n",
    "        stringNgram.append(string[i:i+n])\n",
    "    \n",
    "    wordNgram = []\n",
    "    for i in range(len(stringList) - (n-1)):\n",
    "        wordNgram.append(stringList[i:i+n])\n",
    "    return wordNgram, stringNgram\n",
    "    \n",
    "wordNgram, stringNgram = n_gram('I am an NLPer')\n",
    "print (wordNgram)\n",
    "print (stringNgram)\n",
    "\n",
    "wordNgram, stringNgram = n_gram(['I', 'am', 'an', 'NLPer'])\n",
    "print (wordNgram)\n",
    "print (stringNgram)        "
   ]
  },
  {
   "cell_type": "code",
   "execution_count": 58,
   "metadata": {},
   "outputs": [
    {
     "name": "stdout",
     "output_type": "stream",
     "text": [
      "union:{'ar', 'di', 'ra', 'gr', 'ag', 'se', 'ad', 'ph', 'is', 'pa', 'ap'}\n",
      "intersection: ['ar', 'ap', 'pa', 'ra']\n",
      "difference:['di', 'is', 'gr', 'ag', 'se', 'ad', 'ph']\n",
      "\"se\" is included in paraparaparadise True\n",
      "\"se\" is included in paragraph False\n"
     ]
    }
   ],
   "source": [
    "#06. Set\n",
    "string1 = \"paraparaparadise\"\n",
    "string2 = \"paragraph\"\n",
    "\n",
    "wordNgram, stringNgram = n_gram(string1)\n",
    "wordNgram2, stringNgram2 = n_gram(string2)\n",
    "\n",
    "#union\n",
    "union = set(stringNgram + stringNgram2)\n",
    "\n",
    "#intersection\n",
    "intersection = list(set(stringNgram) & set(stringNgram2))\n",
    "# set(wordNgram).intersection(set(wordNgram2))\n",
    "\n",
    "#difference\n",
    "difference = list(set(stringNgram).symmetric_difference(set(stringNgram2)))\n",
    "\n",
    "print ('union:{}'.format(union))\n",
    "print ('intersection: {}'.format(intersection))\n",
    "print ('difference:{}'. format(difference))\n",
    "\n",
    "print ('\"se\" is included in {}'.format(string1), end = ' ')\n",
    "if 'se' in stringNgram:\n",
    "    print (True)\n",
    "else:\n",
    "    print (False)\n",
    "\n",
    "print ('\"se\" is included in {}'.format(string2), end = ' ')\n",
    "if 'se' in stringNgram2:\n",
    "    print (True)\n",
    "else:\n",
    "    print (False)"
   ]
  },
  {
   "cell_type": "code",
   "execution_count": 60,
   "metadata": {},
   "outputs": [
    {
     "name": "stdout",
     "output_type": "stream",
     "text": [
      "temperature is 22.4 at 12\n"
     ]
    }
   ],
   "source": [
    "#07. Template-based sentence generation\n",
    "def sentenceGeneration(x, y, z):\n",
    "    print ('{} is {} at {}'.format(str(y), str(z), str(x)))\n",
    "    \n",
    "x = 12\n",
    "y = \"temperature\"\n",
    "z = 22.4\n",
    "\n",
    "sentenceGeneration(x, y, z)"
   ]
  },
  {
   "cell_type": "code",
   "execution_count": 75,
   "metadata": {},
   "outputs": [
    {
     "data": {
      "text/plain": [
       "'I zn zm NLPvi'"
      ]
     },
     "execution_count": 75,
     "metadata": {},
     "output_type": "execute_result"
    }
   ],
   "source": [
    "#08. cipher text\n",
    "def cipher(string):\n",
    "    result = \"\"\n",
    "    for letter in string:\n",
    "        if 97 <= ord(letter) <= 122:\n",
    "            letter = chr(219 - ord(letter))\n",
    "        result += letter\n",
    "    return result\n",
    "cipher('I am an NLPer')  "
   ]
  },
  {
   "cell_type": "code",
   "execution_count": 76,
   "metadata": {},
   "outputs": [
    {
     "name": "stdout",
     "output_type": "stream",
     "text": [
      "I codl’unt bivleee that I colud aaltlucy utrsadnend what I was riadeng : the pnmaenheol pwoer of the haumn mind\n"
     ]
    }
   ],
   "source": [
    "#09. Typoglycemia\n",
    "import random\n",
    "string = \"I couldn’t believe that I could actually understand what I was reading : the phenomenal power of the human mind\"\n",
    "words = string.split(' ')\n",
    "\n",
    "result = []\n",
    "for word in words:\n",
    "    if len(word) > 4:\n",
    "        firstWord = word[0]\n",
    "        lastWord = word[-1]\n",
    "        midWord = word[1:len(word)-1]\n",
    "        midWord = ''.join(random.sample(midWord, len(midWord)))\n",
    "        word = firstWord + midWord + lastWord\n",
    "    \n",
    "    result.append(word)\n",
    "\n",
    "print (' '.join(result))"
   ]
  },
  {
   "cell_type": "code",
   "execution_count": null,
   "metadata": {},
   "outputs": [],
   "source": []
  }
 ],
 "metadata": {
  "kernelspec": {
   "display_name": "Python 3",
   "language": "python",
   "name": "python3"
  },
  "language_info": {
   "codemirror_mode": {
    "name": "ipython",
    "version": 3
   },
   "file_extension": ".py",
   "mimetype": "text/x-python",
   "name": "python",
   "nbconvert_exporter": "python",
   "pygments_lexer": "ipython3",
   "version": "3.8.5"
  }
 },
 "nbformat": 4,
 "nbformat_minor": 4
}
